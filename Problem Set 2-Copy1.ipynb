{
 "cells": [
  {
   "cell_type": "code",
   "execution_count": null,
   "id": "fbfbd83f",
   "metadata": {},
   "outputs": [],
   "source": [
    "#QUESTION 1 - 🤣🤣🤣🤣 👍👍👍👍 Completed but remove extra comments to myself"
   ]
  },
  {
   "cell_type": "code",
   "execution_count": null,
   "id": "9dd01245",
   "metadata": {},
   "outputs": [],
   "source": [
    "\n",
    "# This Cell needs to be deleted, I was just trying out the code from Q1 to confirm my hunch of what is happening to \n",
    "# the variables and namespaces. You will need to verbally explain what happens with each call of b() [and the sub-call to c(a)]\n",
    "# and what value a holds at the end; use the correct terminology! 🤣🤣🤣🤣\n",
    "\n",
    "a = 0                  #line 1\n",
    "def b():               #line 2\n",
    " global a              #line 3\n",
    " a = c(a)              #line 4\n",
    "def c(a):              #line 5\n",
    " return a + 2          #line 6\n",
    "b() # 1st exection     #line 7\n",
    "b() # 2nd exection     #line 8\n",
    "b() # 3rd exection     #line 9\n",
    "a                      #line 10\n",
    "\n",
    "#Question 1 - Explanation:\n",
    "\n",
    "# Running Shell: above in line 7, we have the 1st exection of b(), calls to funtion b in line 2 :\n",
    "    # Running b() : then in line 3, the a is assigned it's global value of 0, a=0\n",
    "    # line 4: a=c(0), function c is called\n",
    "        # Running c(0), line 5: \n",
    "        # line 6: return (0+2), return value of 2 as execution returns back to line 4,\n",
    "    #line 4: c function has returned 2, so a=2 at the end of 1st function call of b()\n",
    "    \n",
    "# Continuing in the Shell, the 2nd b() function call is executed (and now a=2)\n",
    "    # Running b(), line 3: a=2 \n",
    "    # line 4: a=c(2), function c is called\n",
    "        # Running c(2), line 5: \n",
    "        # line 6: return (2+2), return value of 4 as execution returns back to line 4\n",
    "    #line 4: c function has returned 4, so a=4 at the end of 2nd function call of b()\n",
    "    \n",
    "# Continuing in the Shell, the 3rd b() function call is executed (and now a=4)\n",
    "    # Running b(), line 3: a=4 \n",
    "    # line 4: a=c(4), function c is called\n",
    "        # Running c(4), line 5: \n",
    "        # line 6: return (4+2), return value of 6 as execution returns back to line 4  \n",
    "    #line 4: c function has returned 6, so a=6 at the end of 3rd function call of b()\n",
    "\n",
    "# When the last expression is evaluated (a), a=6.\n",
    "\n",
    "# Used Section 7.1 and 7.2 (p.203-214) to reseach this answer."
   ]
  },
  {
   "cell_type": "code",
   "execution_count": null,
   "id": "e3a57483",
   "metadata": {},
   "outputs": [],
   "source": [
    " # Question 2 - Function Filelength () - 👍👍👍👍 Completed & commented"
   ]
  },
  {
   "cell_type": "code",
   "execution_count": 5,
   "id": "f25f0c73",
   "metadata": {},
   "outputs": [
    {
     "name": "stdout",
     "output_type": "stream",
     "text": [
      "123\n",
      "\n",
      "File nonexistent_file.txt does not exist or cannot be read.\n"
     ]
    }
   ],
   "source": [
    "# function that reads a file and prints file length -used Section 7.3 of Textbook, p. 217\n",
    "def file_length(file_name):\n",
    "    try:\n",
    "        file = open(file_name)\n",
    "        contents = file.read()\n",
    "        file.close()\n",
    "        print(len(contents))\n",
    "    #print a friendly message if the file is not found:\n",
    "    except:\n",
    "        print('File',file_name,'does not exist or cannot be read.')\n",
    "\n",
    "file_length('Filelength.txt')\n",
    "print()\n",
    "file_length('nonexistent_file.txt')\n",
    "\n"
   ]
  },
  {
   "cell_type": "code",
   "execution_count": null,
   "id": "2793484d",
   "metadata": {},
   "outputs": [],
   "source": [
    "# Question 3(A) - Class Marsupial"
   ]
  },
  {
   "cell_type": "code",
   "execution_count": 15,
   "id": "8cfd68e5",
   "metadata": {},
   "outputs": [
    {
     "name": "stdout",
     "output_type": "stream",
     "text": [
      "The contents of this marsupials pouch are: \n",
      "['doll', 'firetruck', 'kitten']\n"
     ]
    }
   ],
   "source": [
    "#A class Marsupial with attributes of holding items in pouch\n",
    "\n",
    "class Marsupial :\n",
    "#represents an animal\n",
    "\n",
    "    #define a funtion of the class that maintains a list for items held\n",
    "    def __init__(self):\n",
    "        self.pouch_items=[]\n",
    "        \n",
    "    #define a class function that keeps track of the items Marsupials holds\n",
    "    def put_in_pouch(self, thisitem):\n",
    "        self.pouch_items.append(thisitem)\n",
    "        \n",
    "    #define a class function that prints out the items in pouch\n",
    "    def pouch_contents(self):\n",
    "        if len(self.pouch_items) > 0 : \n",
    "            print('The contents of this marsupials pouch are: ')\n",
    "            print(self.pouch_items)\n",
    "        else :\n",
    "            print('The marsupial\\'s pouch is empty.')\n",
    "\n",
    "m=Marsupial()\n",
    "m.put_in_pouch('doll')\n",
    "m.put_in_pouch('firetruck')\n",
    "m.put_in_pouch('kitten')\n",
    "m.pouch_contents()"
   ]
  },
  {
   "cell_type": "code",
   "execution_count": null,
   "id": "75d10bda",
   "metadata": {},
   "outputs": [],
   "source": [
    "# Question 3(B) - Class Marsupial -2nd part of question about Kangaroo"
   ]
  },
  {
   "cell_type": "code",
   "execution_count": 38,
   "id": "acd67751",
   "metadata": {},
   "outputs": [
    {
     "name": "stdout",
     "output_type": "stream",
     "text": [
      "0\n",
      "0\n",
      "I am a Kangaroo located at coordinates (0,0)\n",
      "The contents of this pouch are: \n",
      "['doll', 'firetruck', 'kitten']\n",
      "I am a Kangaroo located at coordinates (3,0)\n"
     ]
    }
   ],
   "source": [
    "# Using Textbook Section 8.4 on Overload Operators, p.256-236, and section 8.5 on Inheritance, p.266-67\n",
    "\n",
    "class Marsupial :\n",
    "#represents an animal\n",
    "\n",
    "    #define a funtion of the class that maintains a list for items held\n",
    "    def __init__(self):\n",
    "        self.pouch_items=[]\n",
    "        \n",
    "    #define a class function that keeps track of the items Marsupials holds\n",
    "    def put_in_pouch(self, thisitem):\n",
    "        self.pouch_items.append(thisitem)\n",
    "        \n",
    "    #define a class function that prints out the items in pouch\n",
    "    def pouch_contents(self):\n",
    "        if len(self.pouch_items) > 0 : \n",
    "            print('The contents of this pouch are: ')\n",
    "            print(self.pouch_items)\n",
    "        else :\n",
    "            print('The pouch is empty.')\n",
    "\n",
    "#Define a class Kangaroo which is a subclass of Marsupial\n",
    "class Kangaroo(Marsupial):\n",
    "    def __init__(self,xcoord,ycoord):\n",
    "        self.pouch_items=[]\n",
    "        self.x = xcoord          #sets initial x-coord of Kangaroo\n",
    "        self.y = ycoord          #sets initial y-coord of Kangaroo\n",
    "        print(self.x)\n",
    "        print(self.y)\n",
    "        \n",
    "    def setx(self, xcoord): #sets x coordinate of point to xcoord\n",
    "        self.x = xcoord\n",
    "        \n",
    "    def sety(self, ycoord): #sets y coordinate of point to ycoord\n",
    "        self.y = ycoord\n",
    "        \n",
    "    def get(self):  #returns the x and y coordinastes of the point as a tuple\n",
    "        retun(self.x,self.y)\n",
    "        \n",
    "    def jump(self, dx, dy): #canges the x and y coordinates by dx and dy, respectively\n",
    "        self.x += dx\n",
    "        self.y += dy\n",
    "    \n",
    "    #returns the canonical string representation of kangaroo's coordinates (x,y)\n",
    "    def __str__(self):\n",
    "        return'I am a Kangaroo located at coordinates ({},{})'.format(self.x,self.y)\n",
    "    \n",
    "k = Kangaroo(0,0)\n",
    "print(k)\n",
    "k.put_in_pouch('doll')\n",
    "k.put_in_pouch('firetruck')\n",
    "k.put_in_pouch('kitten')\n",
    "k.pouch_contents()\n",
    "k.jump(1,0)\n",
    "k.jump(1,0)\n",
    "k.jump(1,0)\n",
    "print(k)\n",
    "        "
   ]
  },
  {
   "cell_type": "code",
   "execution_count": null,
   "id": "9a4c26f8",
   "metadata": {},
   "outputs": [],
   "source": [
    "# Question 4 - Recursive Collatz Function "
   ]
  },
  {
   "cell_type": "code",
   "execution_count": 44,
   "id": "a8e2a486",
   "metadata": {},
   "outputs": [
    {
     "name": "stdout",
     "output_type": "stream",
     "text": [
      "10\n",
      "5\n",
      "16\n",
      "8\n",
      "4\n",
      "2\n",
      "1\n",
      "Collatz is over.\n"
     ]
    }
   ],
   "source": [
    "#Recursive function to for collatz sequence - used Textbook Section 10.1, p.334-336\n",
    "def collatz(x) :\n",
    "    x=int(x)\n",
    "    print(x) #print the number each time fuction is called\n",
    "    \n",
    "    collatz_num=int\n",
    "    collatz_num=int(x)\n",
    "    if collatz_num == 1 :    #base condition\n",
    "        print('Collatz is over.')\n",
    "    elif collatz_num % 2 == 0 :  #the number is even\n",
    "        collatz_num= collatz_num/2\n",
    "        collatz(collatz_num)\n",
    "    else :                       #the number is odd\n",
    "        collatz_num = (collatz_num*3) + 1\n",
    "        collatz(collatz_num)\n",
    "        \n",
    "collatz(10)\n"
   ]
  },
  {
   "cell_type": "code",
   "execution_count": null,
   "id": "8d70e521",
   "metadata": {},
   "outputs": [],
   "source": [
    "#Question 5 - Recursive Method Binary() "
   ]
  },
  {
   "cell_type": "code",
   "execution_count": 64,
   "id": "8cfe41b6",
   "metadata": {
    "scrolled": true
   },
   "outputs": [
    {
     "name": "stdout",
     "output_type": "stream",
     "text": [
      "1010\n",
      "1001\n",
      "11\n"
     ]
    }
   ],
   "source": [
    "#Recursive method binary() that prints the binary representation of non-negative integer n :\n",
    "#Used Textbook Section 10.1 Recursion, p. 335-337\n",
    "\n",
    "def binary(n):\n",
    "    if n==1 :  #base case\n",
    "        print('1', end='')\n",
    "        return\n",
    "    elif (n>1) : #keep calling binary while the number is more than 1\n",
    "        binary(n//2)\n",
    "    print(n % 2, end='')   #print the remainder when n divided by 2 from the stack, \n",
    "                           # to get binary representation to print from the right to the left\n",
    "   \n",
    "binary(10)\n",
    "print()\n",
    "binary(9)\n",
    "print()\n",
    "binary(3)\n",
    "print()"
   ]
  },
  {
   "cell_type": "code",
   "execution_count": null,
   "id": "c22e30b3",
   "metadata": {},
   "outputs": [],
   "source": [
    "#Question 6 - HeadingParser"
   ]
  },
  {
   "cell_type": "code",
   "execution_count": 85,
   "id": "66924e21",
   "metadata": {},
   "outputs": [
    {
     "name": "stdout",
     "output_type": "stream",
     "text": [
      "W3C Mission\n",
      " Principles\n"
     ]
    }
   ],
   "source": [
    "from html.parser import HTMLParser\n",
    "\n",
    "#define Subclass HeadingParser that users super class HTMLParser and sets up initial variables\n",
    "class HeadingParser(HTMLParser):\n",
    "    def __init__(self):\n",
    "        super().__init__()   #initial attributes from the super class\n",
    "        self.Arewein_heading= False #keep track of whether we are in the heading or not\n",
    "        self.indent=0\n",
    "        number=0\n",
    "\n",
    "    #override handle_starttag to read heading tags\n",
    "    def handle_starttag(self, tag, attrs):\n",
    "        #check to see if it's a heading tag : starts with 'h' and that the last char of the tag is a digit\n",
    "        if tag.startswith('h') and tag[1:].isdigit():\n",
    "            self.Arewein_heading=True        #if so, set our marker to true, that we are in a heading tag\n",
    "            number=int(tag[1])-1\n",
    "            self.indent=number\n",
    "\n",
    "    #override handle_data to print the heading with the indent, without anywhitespace\n",
    "    def handle_data(self, data):\n",
    "        if self.Arewein_heading:\n",
    "            print(' ' * self.indent + data.strip()) \n",
    "\n",
    "    #override handle_endtag to go through the end heading tags\n",
    "    def handle_endtag(self, tag):\n",
    "        if tag.startswith('h') and tag[1:].isdigit():\n",
    "            self.Arewein_heading=False     #if so, set our marker to false, that we are Not in a heading tag (but in end tag)\n",
    "\n",
    "infile = open('w3c.txt')\n",
    "content = infile.read()\n",
    "infile.close()\n",
    "hp = HeadingParser()\n",
    "hp.feed(content)\n",
    "\n",
    "#Source: Textbook Section 11.2, p.381-386, practice problem 11.2 (solution p.392)"
   ]
  },
  {
   "cell_type": "code",
   "execution_count": null,
   "id": "6ac3c336",
   "metadata": {},
   "outputs": [],
   "source": [
    "#Question 7 - webdir() \n",
    "#**** SORRY PROFESSOR, I WAS NOT ABLE TO GET THIS ONE WORKING, AND RAN OUT OF TIME ****"
   ]
  },
  {
   "cell_type": "code",
   "execution_count": 88,
   "id": "de660283",
   "metadata": {},
   "outputs": [
    {
     "ename": "TypeError",
     "evalue": "'Collector' object is not iterable",
     "output_type": "error",
     "traceback": [
      "\u001b[1;31m---------------------------------------------------------------------------\u001b[0m",
      "\u001b[1;31mTypeError\u001b[0m                                 Traceback (most recent call last)",
      "Cell \u001b[1;32mIn[88], line 43\u001b[0m\n\u001b[0;32m     40\u001b[0m         \u001b[38;5;28;01mexcept\u001b[39;00m: \u001b[38;5;66;03m# if an exception is thrown,\u001b[39;00m\n\u001b[0;32m     41\u001b[0m             \u001b[38;5;28;01mpass\u001b[39;00m \u001b[38;5;66;03m# ignore and move on.\u001b[39;00m\n\u001b[1;32m---> 43\u001b[0m webdir(\u001b[38;5;124m'\u001b[39m\u001b[38;5;124mhttp://reed.cs.depaul.edu/lperkovic/csc242/test1.html\u001b[39m\u001b[38;5;124m'\u001b[39m, \u001b[38;5;241m2\u001b[39m, \u001b[38;5;241m0\u001b[39m)\n",
      "Cell \u001b[1;32mIn[88], line 37\u001b[0m, in \u001b[0;36mwebdir\u001b[1;34m(url, depth, indent)\u001b[0m\n\u001b[0;32m     34\u001b[0m links \u001b[38;5;241m=\u001b[39m Collector(url)\n\u001b[0;32m     36\u001b[0m \u001b[38;5;66;03m# recursively continue crawl from every link in links\u001b[39;00m\n\u001b[1;32m---> 37\u001b[0m \u001b[38;5;28;01mfor\u001b[39;00m link \u001b[38;5;129;01min\u001b[39;00m links:\n\u001b[0;32m     38\u001b[0m     \u001b[38;5;28;01mtry\u001b[39;00m: \u001b[38;5;66;03m# try block because link may not be valid HTML file\u001b[39;00m\n\u001b[0;32m     39\u001b[0m         webdir(link, depth, indent)\n",
      "\u001b[1;31mTypeError\u001b[0m: 'Collector' object is not iterable"
     ]
    }
   ],
   "source": [
    "#recursive webcrawler \n",
    "\n",
    "def webdir(url, depth, indent):\n",
    "    #recursive web crawler that calls analyze() on every web page'\n",
    "   \n",
    "    from urllib.parse import urljoin\n",
    "    from html.parser import HTMLParser\n",
    "    class Collector(HTMLParser):\n",
    "         #collects hyperlink URLs into a list'\n",
    "\n",
    "        def __init__(self, url):\n",
    "             #initializes parser, the url, and a list'\n",
    "            HTMLParser.__init__(self)\n",
    "            self.url = url\n",
    "            self.links = []\n",
    "\n",
    "        def handle_starttag(self, tag, attrs):\n",
    "            #collect hyperlink URLs in their absolute format'\n",
    "            if tag == 'a':\n",
    "                for attr in attrs:\n",
    "                    if attr[0] == 'href':\n",
    "                        # construct absolute URL\n",
    "                        absolute = urljoin(self.url, attr[1])\n",
    "                        if absolute[:4] == 'http': # collect HTTP URLs\n",
    "                            self.links.append(absolute)\n",
    "\n",
    "        def getLinks(self):\n",
    "            #returns hyperlinks URLs in their absolute format'\n",
    "            return self.links\n",
    "\n",
    "    # analyze() returns a list of hyperlink URLs in web page url\n",
    "    links = Collector(url)\n",
    "        \n",
    "    # recursively continue crawl from every link in links\n",
    "    for link in links:\n",
    "        try: # try block because link may not be valid HTML file\n",
    "            webdir(link, depth, indent)\n",
    "        except: # if an exception is thrown,\n",
    "            pass # ignore and move on.\n",
    "            \n",
    "webdir('http://reed.cs.depaul.edu/lperkovic/csc242/test1.html', 2, 0)\n",
    "\n",
    "#Source: Textbook, Section 11.2 (Collector )"
   ]
  },
  {
   "cell_type": "code",
   "execution_count": null,
   "id": "9e93cab6",
   "metadata": {},
   "outputs": [],
   "source": [
    "#Problem 8 - SQL"
   ]
  },
  {
   "cell_type": "code",
   "execution_count": null,
   "id": "2f9d3966",
   "metadata": {},
   "outputs": [],
   "source": [
    "#8(a) All the temperature data - no table name was provided so we will assume table name = \"Table\"\n",
    "\n",
    "%%sql\n",
    "SELECT Temperature from Table\n",
    "\n",
    "\n",
    "#8(b) All the cities, but without repetition - no table name was provided so we will assume table name = \"Table\"\n",
    "\n",
    "%%sql\n",
    "SELECT Distinct City from Table\n",
    "\n",
    "\n",
    "#8(c) All the records for India - no table name was provided so we will assume table name = \"Table\"\n",
    "\n",
    "%%sql\n",
    "SELECT * from Table \n",
    "WHERE Country = 'India'\n",
    "\n",
    "\n",
    "#8(d) All the Fall records - no table name was provided so we will assume table name = \"Table\"\n",
    "\n",
    "%%sql\n",
    "SELECT * From Table\n",
    "WHERE Season = 'Fall'\n",
    "\n",
    "\n",
    "#8(e) The city, country, and season for which the average rainfall is between 200 \n",
    "#and 400 millimeters - no table name was provided so we will assume table name = \"Table\"\n",
    "\n",
    "%%sql\n",
    "SELECT City, Country, Season From Table\n",
    "WHERE Rainfall >= 200 and Rainfall <= 400\n",
    "\n",
    "\n",
    "#8(f) The city and country for which the average Fall temperature is above 20 degrees, in increasing temperature order \n",
    "#  - no table name was provided so we will assume table name = \"Table\"\n",
    "\n",
    "%%sql\n",
    "SELECT City, Country FROM Table \n",
    "WHERE Season = 'Fall' and Temperature > 20\n",
    "ORDER BY Temperature ASC\n",
    "\n",
    "\n",
    "#8(g) The total annual rainfall for Cairo - no table name was provided so we will assume table name = \"Table\"\n",
    "\n",
    "%%sql\n",
    "SELECT SUM(Rainfall) FROM Table\n",
    "WHERE City = 'Cairo'\n",
    "\n",
    "\n",
    "#8(h) The total rainfall for each season - no table name was provided so we will assume table name = \"Table\"\n",
    "\n",
    "%%sql\n",
    "SELECT SUM(Rainfall) FROM Table\n",
    "ORDER BY Season\n"
   ]
  },
  {
   "cell_type": "code",
   "execution_count": null,
   "id": "7145b014",
   "metadata": {},
   "outputs": [],
   "source": [
    "#Problem 9(a) - List Comprehension"
   ]
  },
  {
   "cell_type": "code",
   "execution_count": 73,
   "id": "37753abf",
   "metadata": {},
   "outputs": [
    {
     "name": "stdout",
     "output_type": "stream",
     "text": [
      "['THE', 'QUICK', 'BROWN', 'FOX', 'JUMPS', 'OVER', 'THE', 'LAZY', 'DOG']\n"
     ]
    }
   ],
   "source": [
    "# generate a new list where you change list words to UPPERCASE\n",
    "\n",
    "words = ['The', 'quick', 'brown', 'fox', 'jumps', 'over', \n",
    "'the', 'lazy', 'dog']\n",
    "newlist_words = [word.upper() for word in words]\n",
    "print(newlist_words)"
   ]
  },
  {
   "cell_type": "code",
   "execution_count": null,
   "id": "c9d6d74c",
   "metadata": {},
   "outputs": [],
   "source": [
    "#Problem 9(b) - List Comprehension"
   ]
  },
  {
   "cell_type": "code",
   "execution_count": 74,
   "id": "2213bf1b",
   "metadata": {},
   "outputs": [
    {
     "name": "stdout",
     "output_type": "stream",
     "text": [
      "['the', 'quick', 'brown', 'fox', 'jumps', 'over', 'the', 'lazy', 'dog']\n"
     ]
    }
   ],
   "source": [
    "# generate a new list where you change list words to \"lower case\"\n",
    "\n",
    "words = ['The', 'quick', 'brown', 'fox', 'jumps', 'over', \n",
    "'the', 'lazy', 'dog']\n",
    "newlist_words = [word.lower() for word in words]\n",
    "print(newlist_words)"
   ]
  },
  {
   "cell_type": "code",
   "execution_count": null,
   "id": "62c05477",
   "metadata": {},
   "outputs": [],
   "source": [
    "#Problem 9(c) - List Comprehension"
   ]
  },
  {
   "cell_type": "code",
   "execution_count": 76,
   "id": "1ab5fbea",
   "metadata": {},
   "outputs": [
    {
     "name": "stdout",
     "output_type": "stream",
     "text": [
      "[3, 5, 5, 3, 5, 4, 3, 4, 3]\n"
     ]
    }
   ],
   "source": [
    "# generate a new list of the lengths of the words in list \"words\"\n",
    "\n",
    "words = ['The', 'quick', 'brown', 'fox', 'jumps', 'over', \n",
    "'the', 'lazy', 'dog']\n",
    "newlist_words = [len(word) for word in words]\n",
    "print(newlist_words)"
   ]
  },
  {
   "cell_type": "code",
   "execution_count": null,
   "id": "3a217ee5",
   "metadata": {},
   "outputs": [],
   "source": [
    "#Problem 9(d) - List Comprehension"
   ]
  },
  {
   "cell_type": "code",
   "execution_count": 77,
   "id": "a9972bcc",
   "metadata": {},
   "outputs": [
    {
     "name": "stdout",
     "output_type": "stream",
     "text": [
      "[['THE', 'the', 3], ['QUICK', 'quick', 5], ['BROWN', 'brown', 5], ['FOX', 'fox', 3], ['JUMPS', 'jumps', 5], ['OVER', 'over', 4], ['THE', 'the', 3], ['LAZY', 'lazy', 4], ['DOG', 'dog', 3]]\n"
     ]
    }
   ],
   "source": [
    "# generate a new list of lists, whereby each element of the new list contains 3 items: UPPERCASE, lowercase, and \n",
    "#   length of each word from list \"words\"\n",
    "\n",
    "words = ['The', 'quick', 'brown', 'fox', 'jumps', 'over', \n",
    "'the', 'lazy', 'dog']\n",
    "newlist_words = [[word.upper(), word.lower(), len(word)] for word in words]\n",
    "print(newlist_words)\n",
    "\n",
    "#source: used this website to learn more about python's list of lists: https://flexiple.com/python/list-of-lists-python"
   ]
  },
  {
   "cell_type": "code",
   "execution_count": null,
   "id": "3ae33e1c",
   "metadata": {},
   "outputs": [],
   "source": [
    "#Problem 9(e) - List Comprehension"
   ]
  },
  {
   "cell_type": "code",
   "execution_count": 80,
   "id": "e78960a7",
   "metadata": {},
   "outputs": [
    {
     "name": "stdout",
     "output_type": "stream",
     "text": [
      "['quick', 'brown', 'jumps', 'over', 'lazy']\n"
     ]
    }
   ],
   "source": [
    "# generate a new list containing words with lengths of 4 or more characters, from the words in list \"words\"\n",
    "\n",
    "words = ['The', 'quick', 'brown', 'fox', 'jumps', 'over', \n",
    "'the', 'lazy', 'dog']\n",
    "newlist_words = [word for word in words if len(word) >= 4]\n",
    "print(newlist_words)"
   ]
  },
  {
   "cell_type": "code",
   "execution_count": null,
   "id": "66e6de1c",
   "metadata": {},
   "outputs": [],
   "source": []
  }
 ],
 "metadata": {
  "kernelspec": {
   "display_name": "Python 3 (ipykernel)",
   "language": "python",
   "name": "python3"
  },
  "language_info": {
   "codemirror_mode": {
    "name": "ipython",
    "version": 3
   },
   "file_extension": ".py",
   "mimetype": "text/x-python",
   "name": "python",
   "nbconvert_exporter": "python",
   "pygments_lexer": "ipython3",
   "version": "3.11.4"
  }
 },
 "nbformat": 4,
 "nbformat_minor": 5
}
